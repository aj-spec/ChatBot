{
  "nbformat": 4,
  "nbformat_minor": 0,
  "metadata": {
    "colab": {
      "name": "ChatBot.ipynb",
      "provenance": []
    },
    "kernelspec": {
      "name": "python3",
      "display_name": "Python 3"
    }
  },
  "cells": [
    {
      "cell_type": "code",
      "metadata": {
        "id": "cmP93pioyvdL",
        "outputId": "78c2c321-04dc-4f22-91dc-1657800891f1",
        "colab": {
          "base_uri": "https://localhost:8080/"
        }
      },
      "source": [
        "pip install nltk"
      ],
      "execution_count": 10,
      "outputs": [
        {
          "output_type": "stream",
          "text": [
            "Requirement already satisfied: nltk in /usr/local/lib/python3.6/dist-packages (3.2.5)\n",
            "Requirement already satisfied: six in /usr/local/lib/python3.6/dist-packages (from nltk) (1.15.0)\n"
          ],
          "name": "stdout"
        }
      ]
    },
    {
      "cell_type": "code",
      "metadata": {
        "id": "QI2VK_FSzEt3",
        "outputId": "06be7a80-1073-4d68-c2fe-f6a8d5bbfbff",
        "colab": {
          "base_uri": "https://localhost:8080/"
        }
      },
      "source": [
        "pip install newspaper3k"
      ],
      "execution_count": 11,
      "outputs": [
        {
          "output_type": "stream",
          "text": [
            "Collecting newspaper3k\n",
            "\u001b[?25l  Downloading https://files.pythonhosted.org/packages/d7/b9/51afecb35bb61b188a4b44868001de348a0e8134b4dfa00ffc191567c4b9/newspaper3k-0.2.8-py3-none-any.whl (211kB)\n",
            "\r\u001b[K     |█▌                              | 10kB 15.9MB/s eta 0:00:01\r\u001b[K     |███                             | 20kB 1.7MB/s eta 0:00:01\r\u001b[K     |████▋                           | 30kB 2.1MB/s eta 0:00:01\r\u001b[K     |██████▏                         | 40kB 2.3MB/s eta 0:00:01\r\u001b[K     |███████▊                        | 51kB 2.0MB/s eta 0:00:01\r\u001b[K     |█████████▎                      | 61kB 2.2MB/s eta 0:00:01\r\u001b[K     |██████████▉                     | 71kB 2.5MB/s eta 0:00:01\r\u001b[K     |████████████▍                   | 81kB 2.7MB/s eta 0:00:01\r\u001b[K     |██████████████                  | 92kB 2.9MB/s eta 0:00:01\r\u001b[K     |███████████████▌                | 102kB 2.8MB/s eta 0:00:01\r\u001b[K     |█████████████████               | 112kB 2.8MB/s eta 0:00:01\r\u001b[K     |██████████████████▋             | 122kB 2.8MB/s eta 0:00:01\r\u001b[K     |████████████████████▏           | 133kB 2.8MB/s eta 0:00:01\r\u001b[K     |█████████████████████▊          | 143kB 2.8MB/s eta 0:00:01\r\u001b[K     |███████████████████████▎        | 153kB 2.8MB/s eta 0:00:01\r\u001b[K     |████████████████████████▉       | 163kB 2.8MB/s eta 0:00:01\r\u001b[K     |██████████████████████████▍     | 174kB 2.8MB/s eta 0:00:01\r\u001b[K     |████████████████████████████    | 184kB 2.8MB/s eta 0:00:01\r\u001b[K     |█████████████████████████████▌  | 194kB 2.8MB/s eta 0:00:01\r\u001b[K     |███████████████████████████████ | 204kB 2.8MB/s eta 0:00:01\r\u001b[K     |████████████████████████████████| 215kB 2.8MB/s \n",
            "\u001b[?25hRequirement already satisfied: nltk>=3.2.1 in /usr/local/lib/python3.6/dist-packages (from newspaper3k) (3.2.5)\n",
            "Collecting jieba3k>=0.35.1\n",
            "\u001b[?25l  Downloading https://files.pythonhosted.org/packages/a9/cb/2c8332bcdc14d33b0bedd18ae0a4981a069c3513e445120da3c3f23a8aaa/jieba3k-0.35.1.zip (7.4MB)\n",
            "\u001b[K     |████████████████████████████████| 7.4MB 8.6MB/s \n",
            "\u001b[?25hCollecting cssselect>=0.9.2\n",
            "  Downloading https://files.pythonhosted.org/packages/3b/d4/3b5c17f00cce85b9a1e6f91096e1cc8e8ede2e1be8e96b87ce1ed09e92c5/cssselect-1.1.0-py2.py3-none-any.whl\n",
            "Requirement already satisfied: lxml>=3.6.0 in /usr/local/lib/python3.6/dist-packages (from newspaper3k) (4.2.6)\n",
            "Requirement already satisfied: requests>=2.10.0 in /usr/local/lib/python3.6/dist-packages (from newspaper3k) (2.23.0)\n",
            "Requirement already satisfied: PyYAML>=3.11 in /usr/local/lib/python3.6/dist-packages (from newspaper3k) (3.13)\n",
            "Requirement already satisfied: Pillow>=3.3.0 in /usr/local/lib/python3.6/dist-packages (from newspaper3k) (7.0.0)\n",
            "Collecting feedparser>=5.2.1\n",
            "\u001b[?25l  Downloading https://files.pythonhosted.org/packages/1c/21/faf1bac028662cc8adb2b5ef7a6f3999a765baa2835331df365289b0ca56/feedparser-6.0.2-py3-none-any.whl (80kB)\n",
            "\u001b[K     |████████████████████████████████| 81kB 9.7MB/s \n",
            "\u001b[?25hRequirement already satisfied: python-dateutil>=2.5.3 in /usr/local/lib/python3.6/dist-packages (from newspaper3k) (2.8.1)\n",
            "Collecting tinysegmenter==0.3\n",
            "  Downloading https://files.pythonhosted.org/packages/17/82/86982e4b6d16e4febc79c2a1d68ee3b707e8a020c5d2bc4af8052d0f136a/tinysegmenter-0.3.tar.gz\n",
            "Requirement already satisfied: beautifulsoup4>=4.4.1 in /usr/local/lib/python3.6/dist-packages (from newspaper3k) (4.6.3)\n",
            "Collecting tldextract>=2.0.1\n",
            "\u001b[?25l  Downloading https://files.pythonhosted.org/packages/ff/9e/578ea24d0149a5c179ded8ea53e2b8fc35d22f7bfdee9564844873b147ea/tldextract-3.0.2-py2.py3-none-any.whl (86kB)\n",
            "\u001b[K     |████████████████████████████████| 92kB 9.4MB/s \n",
            "\u001b[?25hCollecting feedfinder2>=0.0.4\n",
            "  Downloading https://files.pythonhosted.org/packages/35/82/1251fefec3bb4b03fd966c7e7f7a41c9fc2bb00d823a34c13f847fd61406/feedfinder2-0.0.4.tar.gz\n",
            "Requirement already satisfied: six in /usr/local/lib/python3.6/dist-packages (from nltk>=3.2.1->newspaper3k) (1.15.0)\n",
            "Requirement already satisfied: chardet<4,>=3.0.2 in /usr/local/lib/python3.6/dist-packages (from requests>=2.10.0->newspaper3k) (3.0.4)\n",
            "Requirement already satisfied: urllib3!=1.25.0,!=1.25.1,<1.26,>=1.21.1 in /usr/local/lib/python3.6/dist-packages (from requests>=2.10.0->newspaper3k) (1.24.3)\n",
            "Requirement already satisfied: idna<3,>=2.5 in /usr/local/lib/python3.6/dist-packages (from requests>=2.10.0->newspaper3k) (2.10)\n",
            "Requirement already satisfied: certifi>=2017.4.17 in /usr/local/lib/python3.6/dist-packages (from requests>=2.10.0->newspaper3k) (2020.6.20)\n",
            "Collecting sgmllib3k\n",
            "  Downloading https://files.pythonhosted.org/packages/9e/bd/3704a8c3e0942d711c1299ebf7b9091930adae6675d7c8f476a7ce48653c/sgmllib3k-1.0.0.tar.gz\n",
            "Requirement already satisfied: filelock>=3.0.8 in /usr/local/lib/python3.6/dist-packages (from tldextract>=2.0.1->newspaper3k) (3.0.12)\n",
            "Collecting requests-file>=1.4\n",
            "  Downloading https://files.pythonhosted.org/packages/77/86/cdb5e8eaed90796aa83a6d9f75cfbd37af553c47a291cd47bc410ef9bdb2/requests_file-1.5.1-py2.py3-none-any.whl\n",
            "Building wheels for collected packages: jieba3k, tinysegmenter, feedfinder2, sgmllib3k\n",
            "  Building wheel for jieba3k (setup.py) ... \u001b[?25l\u001b[?25hdone\n",
            "  Created wheel for jieba3k: filename=jieba3k-0.35.1-cp36-none-any.whl size=7398406 sha256=6bfa88ceb22f4a597102a9f15b7ab1a102a5bfb4369278a4a47481ee91b9a73f\n",
            "  Stored in directory: /root/.cache/pip/wheels/83/15/9c/a3f1f67e7f7181170ad37d32e503c35da20627c013f438ed34\n",
            "  Building wheel for tinysegmenter (setup.py) ... \u001b[?25l\u001b[?25hdone\n",
            "  Created wheel for tinysegmenter: filename=tinysegmenter-0.3-cp36-none-any.whl size=13538 sha256=5defac721d8f85356c98555b7fda060d6a864edddf6271c9d1381e31a2cee104\n",
            "  Stored in directory: /root/.cache/pip/wheels/81/2b/43/a02ede72324dd40cdd7ca53aad718c7710628e91b8b0dc0f02\n",
            "  Building wheel for feedfinder2 (setup.py) ... \u001b[?25l\u001b[?25hdone\n",
            "  Created wheel for feedfinder2: filename=feedfinder2-0.0.4-cp36-none-any.whl size=3355 sha256=85707fb74b34bc896b3969c97f4f4c5577971b855228c512dd36aefa2d8c8a56\n",
            "  Stored in directory: /root/.cache/pip/wheels/de/03/ca/778e3a7a627e3d98836cc890e7cb40c7575424cfd3340f40ed\n",
            "  Building wheel for sgmllib3k (setup.py) ... \u001b[?25l\u001b[?25hdone\n",
            "  Created wheel for sgmllib3k: filename=sgmllib3k-1.0.0-cp36-none-any.whl size=6067 sha256=588e68f924768ca46ac09a054e9187c7fd20b173982bd5a2b6483179d2c9ed77\n",
            "  Stored in directory: /root/.cache/pip/wheels/f1/80/5a/444ba08a550cdd241bd9baf8bae44be750efe370adb944506a\n",
            "Successfully built jieba3k tinysegmenter feedfinder2 sgmllib3k\n",
            "Installing collected packages: jieba3k, cssselect, sgmllib3k, feedparser, tinysegmenter, requests-file, tldextract, feedfinder2, newspaper3k\n",
            "Successfully installed cssselect-1.1.0 feedfinder2-0.0.4 feedparser-6.0.2 jieba3k-0.35.1 newspaper3k-0.2.8 requests-file-1.5.1 sgmllib3k-1.0.0 tinysegmenter-0.3 tldextract-3.0.2\n"
          ],
          "name": "stdout"
        }
      ]
    },
    {
      "cell_type": "code",
      "metadata": {
        "id": "CayKz6A2zug4"
      },
      "source": [
        "#Import Libraries\n",
        "from newspaper import Article\n",
        "import random\n",
        "import string\n",
        "import nltk\n",
        "from sklearn.feature_extraction.text import CountVectorizer\n",
        "from sklearn.metrics.pairwise import cosine_similarity\n",
        "import numpy as np\n",
        "import warnings\n",
        "warnings.filterwarnings('ignore')"
      ],
      "execution_count": 8,
      "outputs": []
    },
    {
      "cell_type": "code",
      "metadata": {
        "id": "7qWzZedx3GiB",
        "outputId": "5cac85ae-6f04-4645-91c1-cdd6bb1cf625",
        "colab": {
          "base_uri": "https://localhost:8080/"
        }
      },
      "source": [
        "#Download punkt package (divides a text into a list of sentences)\n",
        "nltk.download('punkt', quiet=True)"
      ],
      "execution_count": 9,
      "outputs": [
        {
          "output_type": "execute_result",
          "data": {
            "text/plain": [
              "True"
            ]
          },
          "metadata": {
            "tags": []
          },
          "execution_count": 9
        }
      ]
    },
    {
      "cell_type": "code",
      "metadata": {
        "id": "uusijYwG35Eh"
      },
      "source": [
        "#Get the article\n",
        "article = Article('https://www.investopedia.com/articles/investing/082614/how-stock-market-works.asp')\n",
        "article.download()\n",
        "article.parse()\n",
        "article.nlp()\n",
        "corpus = article.text"
      ],
      "execution_count": 13,
      "outputs": []
    },
    {
      "cell_type": "code",
      "metadata": {
        "id": "RtG4SeoY4kAN",
        "outputId": "88beb429-ab6e-4619-e12b-d4948c889d9b",
        "colab": {
          "base_uri": "https://localhost:8080/"
        }
      },
      "source": [
        "#Print the article data\n",
        "print(corpus)"
      ],
      "execution_count": 14,
      "outputs": [
        {
          "output_type": "stream",
          "text": [
            "If the thought of investing in the stock market scares you, you are not alone. Individuals with very limited experience in stock investing are either terrified by horror stories of the average investor losing 50% of their portfolio value—for example, in the two bear markets that have already occurred in this millennium﻿﻿ —or are beguiled by \"hot tips\" that bear the promise of huge rewards but seldom pay off. It is not surprising, then, that the pendulum of investment sentiment is said to swing between fear and greed.\n",
            "\n",
            "The reality is that investing in the stock market carries risk, but when approached in a disciplined manner, it is one of the most efficient ways to build up one's net worth.﻿﻿ While the value of one's home typically accounts for most of the net worth of the average individual, most of the affluent and very rich generally have the majority of their wealth invested in stocks.﻿﻿ In order to understand the mechanics of the stock market, let's begin by delving into the definition of a stock and its different types.\n",
            "\n",
            "Key Takeaways Stocks, or shares of a company, represent ownership equity in the firm, which give shareholders voting rights as well as a residual claim on corporate earnings in the form of capital gains and dividends.\n",
            "\n",
            "Stock markets are where individual and institutional investors come together to buy and sell shares in a public venue. Nowadays these exchanges exist as electronic marketplaces.\n",
            "\n",
            "Share prices are set by supply and demand in the market as buyers and sellers place orders. Order flow and bid-ask spreads are often maintained by specialists or market makers to ensure an orderly and fair market.\n",
            "\n",
            "Definition of 'Stock'\n",
            "\n",
            "A stock or share (also known as a company's \"equity\") is a financial instrument that represents ownership in a company or corporation and represents a proportionate claim on its assets (what it owns) and earnings (what it generates in profits).﻿﻿\n",
            "\n",
            "Stock ownership implies that the shareholder owns a slice of the company equal to the number of shares held as a proportion of the company's total outstanding shares. For instance, an individual or entity that owns 100,000 shares of a company with one million outstanding shares would have a 10% ownership stake in it. Most companies have outstanding shares that run into the millions or billions.\n",
            "\n",
            "Common and Preferred Stock\n",
            "\n",
            "While there are two main types of stock—common and preferred—the term \"equities\" is synonymous with common shares, as their combined market value and trading volumes are many magnitudes larger than that of preferred shares.﻿﻿\n",
            "\n",
            "The main distinction between the two is that common shares usually carry voting rights that enable the common shareholder to have a say in corporate meetings (like the annual general meeting or AGM)—where matters such as election to the board of directors or appointment of auditors are voted upon—while preferred shares generally do not have voting rights. Preferred shares are so named because they have preference over the common shares in a company to receive dividends as well as assets in the event of a liquidation.﻿﻿\n",
            "\n",
            "Common stock can be further classified in terms of their voting rights. While the basic premise of common shares is that they should have equal voting rights—one vote per share held—some companies have dual or multiple classes of stock with different voting rights attached to each class. In such a dual-class structure, Class A shares, for example, may have 10 votes per share, while the Class B \"subordinate voting\" shares may only have one vote per share. Dual- or multiple-class share structures are designed to enable the founders of a company to control its fortunes, strategic direction and ability to innovate.﻿﻿\n",
            "\n",
            "Why a Company Issues Shares\n",
            "\n",
            "Today's corporate giant likely had its start as a small private entity launched by a visionary founder a few decades ago. Think of Jack Ma incubating Alibaba Group Holding Limited (BABA) from his apartment in Hangzhou, China, in 1999, or Mark Zuckerberg founding the earliest version of Facebook, Inc. (FB) from his Harvard University dorm room in 2004. Technology giants like these have become among the biggest companies in the world within a couple of decades.﻿﻿\n",
            "\n",
            "However, growing at such a frenetic pace requires access to a massive amount of capital. In order to make the transition from an idea germinating in an entrepreneur's brain to an operating company, he or she needs to lease an office or factory, hire employees, buy equipment and raw materials, and put in place a sales and distribution network, among other things. These resources require significant amounts of capital, depending on the scale and scope of the business startup.\n",
            "\n",
            "Raising Capital\n",
            "\n",
            "A startup can raise such capital either by selling shares (equity financing) or borrowing money (debt financing). Debt financing can be a problem for a startup because it may have few assets to pledge for a loan—especially in sectors such as technology or biotechnology, where a firm has few tangible assets—plus the interest on the loan would impose a financial burden in the early days, when the company may have no revenues or earnings.\n",
            "\n",
            "Equity financing, therefore, is the preferred route for most startups that need capital. The entrepreneur may initially source funds from personal savings, as well as friends and family, to get the business off the ground. As the business expands and capital requirements become more substantial, the entrepreneur may turn to angel investors and venture capital firms.\n",
            "\n",
            "Listing Shares\n",
            "\n",
            "When a company establishes itself, it may need access to much larger amounts of capital than it can get from ongoing operations or a traditional bank loan. It can do so by selling shares to the public through an initial public offering (IPO). This changes the status of the company from a private firm whose shares are held by a few shareholders to a publicly traded company whose shares will be held by numerous members of the general public. The IPO also offers early investors in the company an opportunity to cash out part of their stake, often reaping very handsome rewards in the process.\n",
            "\n",
            "Once the company's shares are listed on a stock exchange and trading in it commences, the price of these shares will fluctuate as investors and traders assess and reassess their intrinsic value. There are many different ratios and metrics that can be used to value stocks, of which the single-most popular measure is probably the Price/Earnings (or PE) ratio. The stock analysis also tends to fall into one of two camps—fundamental analysis, or technical analysis.\n",
            "\n",
            "What is a Stock Exchange?\n",
            "\n",
            "Stock exchanges are secondary markets, where existing owners of shares can transact with potential buyers. It is important to understand that the corporations listed on stock markets do not buy and sell their own shares on a regular basis (companies may engage in stock buybacks﻿﻿ or issue new shares,﻿﻿ but these are not day-to-day operations and often occur outside of the framework of an exchange). So when you buy a share of stock on the stock market, you are not buying it from the company, you are buying it from some other existing shareholder. Likewise, when you sell your shares, you do not sell them back to the company—rather you sell them to some other investor.\n",
            "\n",
            "The first stock markets appeared in Europe in the 16th and 17th centuries, mainly in port cities or trading hubs such as Antwerp, Amsterdam, and London.﻿﻿ These early stock exchanges, however, were more akin to bond exchanges as the small number of companies did not issue equity. In fact, most early corporations were considered semi-public organizations since they had to be chartered by their government in order to conduct business.\n",
            "\n",
            "In the late 18th century, stock markets began appearing in America, notably the New York Stock Exchange (NYSE), which allowed for equity shares to trade. The honor of the first stock exchange in America goes to the Philadelphia Stock Exchange (PHLX), which still exists today.﻿﻿ The NYSE was founded in 1792 with the signing of the Buttonwood Agreement by 24 New York City stockbrokers and merchants. Prior to this official incorporation, traders and brokers would meet unofficially under a buttonwood tree on Wall Street to buy and sell shares.﻿﻿\n",
            "\n",
            "The advent of modern stock markets ushered in an age of regulation and professionalization that now ensures buyers and sellers of shares can trust that their transactions will go through at fair prices and within a reasonable period of time. Today, there are many stock exchanges in the U.S. and throughout the world, many of which are linked together electronically. This in turn means markets are more efficient and more liquid.\n",
            "\n",
            "There also exists a number of loosely regulated over-the-counter exchanges, sometimes known as bulletin boards, that go by the acronym OTCBB. OTCBB shares tend to be more risky since they list companies that fail to meet the more strict listing criteria of bigger exchanges.﻿﻿ For example, larger exchanges may require that a company has been in operation for a certain amount of time before being listed, and that it meets certain conditions regarding company value and profitability.﻿﻿ In most developed countries, stock exchanges are self-regulatory organizations (SROs), non-governmental organizations that have the power to create and enforce industry regulations and standards.﻿﻿ The priority for stock exchanges is to protect investors through the establishment of rules that promote ethics and equality. Examples of such SRO’s in the U.S. include individual stock exchanges, as well as the National Association of Securities Dealers (NASD) and the Financial Industry Regulatory Authority (FINRA).\n",
            "\n",
            "How Share Prices Are Set\n",
            "\n",
            "The prices of shares on a stock market can be set in a number of ways, but most the most common way is through an auction process where buyers and sellers place bids and offers to buy or sell. A bid is the price at which somebody wishes to buy, and an offer (or ask) is the price at which somebody wishes to sell. When the bid and ask coincide, a trade is made.\n",
            "\n",
            "The overall market is made up of millions of investors and traders, who may have differing ideas about the value of a specific stock and thus the price at which they are willing to buy or sell it. The thousands of transactions that occur as these investors and traders convert their intentions to actions by buying and/or selling a stock cause minute-by-minute gyrations in it over the course of a trading day. A stock exchange provides a platform where such trading can be easily conducted by matching buyers and sellers of stocks. For the average person to get access to these exchanges, they would need a stockbroker. This stockbroker acts as the middleman between the buyer and the seller. Getting a stockbroker is most commonly accomplished by creating an account with a well established retail broker.\n",
            "\n",
            "Stock Market Supply and Demand\n",
            "\n",
            "The stock market also offers a fascinating example of the laws of supply and demand at work in real time. For every stock transaction, there must be a buyer and a seller. Because of the immutable laws of supply and demand, if there are more buyers for a specific stock than there are sellers of it, the stock price will trend up. Conversely, if there are more sellers of the stock than buyers, the price will trend down.\n",
            "\n",
            "The bid-ask or bid-offer spread—the difference between the bid price for a stock and its ask or offer price—represents the difference between the highest price that a buyer is willing to pay or bid for a stock and the lowest price at which a seller is offering the stock. A trade transaction occurs either when a buyer accepts the ask price or a seller takes the bid price. If buyers outnumber sellers, they may be willing to raise their bids in order to acquire the stock; sellers will, therefore, ask higher prices for it, ratcheting the price up. If sellers outnumber buyers, they may be willing to accept lower offers for the stock, while buyers will also lower their bids, effectively forcing the price down.\n",
            "\n",
            "Matching Buyers to Sellers\n",
            "\n",
            "Some stock markets rely on professional traders to maintain continuous bids and offers since a motivated buyer or seller may not find each other at any given moment. These are known as specialists or market makers. A two-sided market consists of the bid and the offer, and the spread is the difference in price between the bid and the offer. The more narrow the price spread and the larger size of the bids and offers (the amount of shares on each side), the greater the liquidity of the stock. Moreover, if there are many buyers and sellers at sequentially higher and lower prices, the market is said to have good depth. Stock markets of high quality generally tend to have small bid-ask spreads, high liquidity, and good depth. Likewise, individual stocks of high quality, large companies tend to have the same characteristics.\n",
            "\n",
            "Matching buyers and sellers of stocks on an exchange was initially done manually, but it is now increasingly carried out through computerized trading systems. The manual method of trading was based on a system known as \"open outcry,\" in which traders used verbal and hand signal communications to buy and sell large blocks of stocks in the \"trading pit\" or the floor of an exchange.\n",
            "\n",
            "However, the open outcry system has been superseded by electronic trading systems at most exchanges.﻿﻿ These systems can match buyers and sellers far more efficiently and rapidly than humans can, resulting in significant benefits such as lower trading costs and faster trade execution.\n",
            "\n",
            "Benefits of Stock Exchange Listing\n",
            "\n",
            "Until recently, the ultimate goal for an entrepreneur was to get his or her company listed on a reputed stock exchange such as the New York Stock Exchange (NYSE) or Nasdaq, because of the obvious benefits, which include:\n",
            "\n",
            "An exchange listing means ready liquidity for shares held by the company's shareholders.\n",
            "\n",
            "It enables the company to raise additional funds by issuing more shares.\n",
            "\n",
            "Having publicly traded shares makes it easier to set up stock options plans that are necessary to attract talented employees.\n",
            "\n",
            "Listed companies have greater visibility in the marketplace; analyst coverage and demand from institutional investors can drive up the share price.\n",
            "\n",
            "Listed shares can be used as currency by the company to make acquisitions in which part or all of the consideration is paid in stock.\n",
            "\n",
            "These benefits mean that most large companies are public rather than private; very large private companies such as food and agriculture giant Cargill, industrial conglomerate Koch Industries, and DIY furniture retailer Ikea are among the world's most valuable private companies, and they are the exception rather than the norm.\n",
            "\n",
            "Problems of Stock Exchange Listing\n",
            "\n",
            "But there are some drawbacks to being listed on a stock exchange, such as:\n",
            "\n",
            "Significant costs associated with listing on an exchange, such as listing fees and higher costs associated with compliance and reporting.\n",
            "\n",
            "Burdensome regulations, which may constrict a company's ability to do business.\n",
            "\n",
            "The short-term focus of most investors, which forces companies to try and beat their quarterly earnings estimates rather than taking a long-term approach to their corporate strategy.\n",
            "\n",
            "Many giant startups (also known as \"unicorns\" because startups valued at greater than $1 billion used to be exceedingly rare) are choosing to get listed on an exchange at a much later stage than startups from a decade or two ago.﻿﻿ While this delayed listing may partly be attributable to the drawbacks listed above, the main reason could be that well-managed startups with a compelling business proposition have access to unprecedented amounts of capital from sovereign wealth funds, private equity, and venture capitalists. Such access to seemingly unlimited amounts of capital would make an IPO and exchange listing much less of a pressing issue for a startup.\n",
            "\n",
            "The number of publicly traded companies in the U.S. is also shrinking—from more than 8,000 in 1996 to around to between 4,100 and 4,400 in 2017.﻿﻿\n",
            "\n",
            "Investing in Stocks\n",
            "\n",
            "Numerous studies have shown that, over long periods of time, stocks generate investment returns that are superior to those from every other asset class. Stock returns arise from capital gains and dividends. A capital gain occurs when you sell a stock at a higher price than the price at which you purchased it. A dividend is the share of profit that a company distributes to its shareholders. Dividends are an important component of stock returns—since 1956, dividends have contributed nearly one-third of total equity return, while capital gains have contributed two-thirds.﻿﻿\n",
            "\n",
            "While the allure of buying a stock similar to one of the fabled FAANG quintet—Facebook, Apple Inc. (AAPL), Amazon.com Inc. (AMZN), Netflix Inc. (NFLX), and Google parent Alphabet Inc. (GOOGL)—at a very early stage is one of the more tantalizing prospects of stock investing, in reality, such home runs are few and far between. Investors who want to swing for the fences with the stocks in their portfolios should have a higher tolerance for risk; such investors will be keen to generate most of their returns from capital gains rather than dividends. On the other hand, investors who are conservative and need the income from their portfolios may opt for stocks that have a long history of paying substantial dividends.\n",
            "\n",
            "Market Cap and Sector\n",
            "\n",
            "While stocks can be classified in a number of ways, two of the most common are by market capitalization and by sector.\n",
            "\n",
            "Market capitalization refers to the total market value of a company's outstanding shares and is calculated by multiplying these shares by the current market price of one share. While the exact definition may vary depending on the market, large-cap companies are generally regarded as those with a market capitalization of $10 billion or more, while mid-cap companies are those with a market capitalization of between $2 billion and $10 billion, and small-cap companies fall between $300 million and $2 billion.\n",
            "\n",
            "The industry standard for stock classification by sector is the Global Industry Classification Standard (GICS), which was developed by MSCI and S&P Dow Jones Indices in 1999 as an efficient tool to capture the breadth, depth, and evolution of industry sectors.﻿﻿ GICS is a four-tiered industry classification system that consists of 11 sectors and 24 industry groups. The 11 sectors are:\n",
            "\n",
            "Energy\n",
            "\n",
            "Materials\n",
            "\n",
            "Industrials\n",
            "\n",
            "Consumer Discretionary\n",
            "\n",
            "Consumer Staples\n",
            "\n",
            "Health Care\n",
            "\n",
            "Financials\n",
            "\n",
            "Information Technology\n",
            "\n",
            "Communication Services\n",
            "\n",
            "Utilities\n",
            "\n",
            "Real Estate ﻿ ﻿\n",
            "\n",
            "This sector classification makes it easy for investors to tailor their portfolios according to their risk tolerance and investment preference. For example, conservative investors with income needs may weight their portfolios toward sectors whose constituent stocks have better price stability and offer attractive dividends – so-called \"defensive\" sectors such as consumer staples, health care, and utilities. Aggressive investors may prefer more volatile sectors such as information technology, financials, and energy.\n",
            "\n",
            "Stock Market Indices\n",
            "\n",
            "In addition to individual stocks, many investors are concerned with stock indices (also called indexes). Indices represent aggregated prices of a number of different stocks, and the movement of an index is the net effect of the movements of each individual component. When people talk about the stock market, they often are actually referring to one of the major indices such as the Dow Jones Industrial Average (DJIA) or the S&P 500.\n",
            "\n",
            "The DJIA is a price-weighted index of 30 large American corporations. Because of its weighting scheme and that it only consists of 30 stocks—when there are many thousand to choose from—it is not really a good indicator of how the stock market is doing. The S&P 500 is a market cap-weighted index of the 500 largest companies in the U.S., and is a much more valid indicator.﻿﻿ Indices can be broad such as the Dow Jones or S&P 500, or they can be specific to a certain industry or market sector. Investors can trade indices indirectly via futures markets, or via exchange traded funds (ETFs), which trade like stocks on stock exchanges.\n",
            "\n",
            "A market index is a popular measure of stock market performance. Most market indices are market-cap weighted—which means that the weight of each index constituent is proportional to its market capitalization—although a few like the Dow Jones Industrial Average (DJIA) are price-weighted.﻿﻿ In addition to the DJIA, other widely watched indices in the U.S. and internationally include:\n",
            "\n",
            "Largest Stock Exchanges\n",
            "\n",
            "Stock exchanges have been around for more than two centuries. The venerable NYSE traces its roots back to 1792 when two dozen brokers met in Lower Manhattan and signed an agreement to trade securities on commission;﻿﻿ in 1817, New York stockbrokers operating under the agreement made some key changes and reorganized as the New York Stock and Exchange Board.﻿﻿\n",
            "\n",
            "1:43 How The Stock Market Works\n",
            "\n",
            "The NYSE and Nasdaq are the two largest exchanges in the world, based on the total market capitalization of all the companies listed on the exchange. The number of U.S. stock exchanges registered with the Securities and Exchange Commission has reached nearly two dozen, though most of these are owned by either CBOE, Nasdaq or NYSE.﻿﻿ The table below displays the 20 biggest exchanges globally, ranked by total market capitalization of their listed companies.\n"
          ],
          "name": "stdout"
        }
      ]
    },
    {
      "cell_type": "code",
      "metadata": {
        "id": "1s4RV3V25xlx"
      },
      "source": [
        "#Tokenization\n",
        "text = corpus\n",
        "sentence_list = nltk.sent_tokenize(text) #A list a sentence\n"
      ],
      "execution_count": 15,
      "outputs": []
    },
    {
      "cell_type": "code",
      "metadata": {
        "id": "S4xqRyE15-BM",
        "outputId": "fd0a64db-ec66-4081-d649-4e6ae14c25fe",
        "colab": {
          "base_uri": "https://localhost:8080/"
        }
      },
      "source": [
        "#Print the list of sentences\n",
        "print(sentence_list)"
      ],
      "execution_count": 16,
      "outputs": [
        {
          "output_type": "stream",
          "text": [
            "['If the thought of investing in the stock market scares you, you are not alone.', 'Individuals with very limited experience in stock investing are either terrified by horror stories of the average investor losing 50% of their portfolio value—for example, in the two bear markets that have already occurred in this millennium\\ufeff\\ufeff —or are beguiled by \"hot tips\" that bear the promise of huge rewards but seldom pay off.', 'It is not surprising, then, that the pendulum of investment sentiment is said to swing between fear and greed.', \"The reality is that investing in the stock market carries risk, but when approached in a disciplined manner, it is one of the most efficient ways to build up one's net worth.\\ufeff\\ufeff While the value of one's home typically accounts for most of the net worth of the average individual, most of the affluent and very rich generally have the majority of their wealth invested in stocks.\\ufeff\\ufeff In order to understand the mechanics of the stock market, let's begin by delving into the definition of a stock and its different types.\", 'Key Takeaways Stocks, or shares of a company, represent ownership equity in the firm, which give shareholders voting rights as well as a residual claim on corporate earnings in the form of capital gains and dividends.', 'Stock markets are where individual and institutional investors come together to buy and sell shares in a public venue.', 'Nowadays these exchanges exist as electronic marketplaces.', 'Share prices are set by supply and demand in the market as buyers and sellers place orders.', 'Order flow and bid-ask spreads are often maintained by specialists or market makers to ensure an orderly and fair market.', 'Definition of \\'Stock\\'\\n\\nA stock or share (also known as a company\\'s \"equity\") is a financial instrument that represents ownership in a company or corporation and represents a proportionate claim on its assets (what it owns) and earnings (what it generates in profits).\\ufeff\\ufeff\\n\\nStock ownership implies that the shareholder owns a slice of the company equal to the number of shares held as a proportion of the company\\'s total outstanding shares.', 'For instance, an individual or entity that owns 100,000 shares of a company with one million outstanding shares would have a 10% ownership stake in it.', 'Most companies have outstanding shares that run into the millions or billions.', 'Common and Preferred Stock\\n\\nWhile there are two main types of stock—common and preferred—the term \"equities\" is synonymous with common shares, as their combined market value and trading volumes are many magnitudes larger than that of preferred shares.\\ufeff\\ufeff\\n\\nThe main distinction between the two is that common shares usually carry voting rights that enable the common shareholder to have a say in corporate meetings (like the annual general meeting or AGM)—where matters such as election to the board of directors or appointment of auditors are voted upon—while preferred shares generally do not have voting rights.', 'Preferred shares are so named because they have preference over the common shares in a company to receive dividends as well as assets in the event of a liquidation.\\ufeff\\ufeff\\n\\nCommon stock can be further classified in terms of their voting rights.', 'While the basic premise of common shares is that they should have equal voting rights—one vote per share held—some companies have dual or multiple classes of stock with different voting rights attached to each class.', 'In such a dual-class structure, Class A shares, for example, may have 10 votes per share, while the Class B \"subordinate voting\" shares may only have one vote per share.', \"Dual- or multiple-class share structures are designed to enable the founders of a company to control its fortunes, strategic direction and ability to innovate.\\ufeff\\ufeff\\n\\nWhy a Company Issues Shares\\n\\nToday's corporate giant likely had its start as a small private entity launched by a visionary founder a few decades ago.\", 'Think of Jack Ma incubating Alibaba Group Holding Limited (BABA) from his apartment in Hangzhou, China, in 1999, or Mark Zuckerberg founding the earliest version of Facebook, Inc. (FB) from his Harvard University dorm room in 2004.', 'Technology giants like these have become among the biggest companies in the world within a couple of decades.\\ufeff\\ufeff\\n\\nHowever, growing at such a frenetic pace requires access to a massive amount of capital.', \"In order to make the transition from an idea germinating in an entrepreneur's brain to an operating company, he or she needs to lease an office or factory, hire employees, buy equipment and raw materials, and put in place a sales and distribution network, among other things.\", 'These resources require significant amounts of capital, depending on the scale and scope of the business startup.', 'Raising Capital\\n\\nA startup can raise such capital either by selling shares (equity financing) or borrowing money (debt financing).', 'Debt financing can be a problem for a startup because it may have few assets to pledge for a loan—especially in sectors such as technology or biotechnology, where a firm has few tangible assets—plus the interest on the loan would impose a financial burden in the early days, when the company may have no revenues or earnings.', 'Equity financing, therefore, is the preferred route for most startups that need capital.', 'The entrepreneur may initially source funds from personal savings, as well as friends and family, to get the business off the ground.', 'As the business expands and capital requirements become more substantial, the entrepreneur may turn to angel investors and venture capital firms.', 'Listing Shares\\n\\nWhen a company establishes itself, it may need access to much larger amounts of capital than it can get from ongoing operations or a traditional bank loan.', 'It can do so by selling shares to the public through an initial public offering (IPO).', 'This changes the status of the company from a private firm whose shares are held by a few shareholders to a publicly traded company whose shares will be held by numerous members of the general public.', 'The IPO also offers early investors in the company an opportunity to cash out part of their stake, often reaping very handsome rewards in the process.', \"Once the company's shares are listed on a stock exchange and trading in it commences, the price of these shares will fluctuate as investors and traders assess and reassess their intrinsic value.\", 'There are many different ratios and metrics that can be used to value stocks, of which the single-most popular measure is probably the Price/Earnings (or PE) ratio.', 'The stock analysis also tends to fall into one of two camps—fundamental analysis, or technical analysis.', 'What is a Stock Exchange?', 'Stock exchanges are secondary markets, where existing owners of shares can transact with potential buyers.', 'It is important to understand that the corporations listed on stock markets do not buy and sell their own shares on a regular basis (companies may engage in stock buybacks\\ufeff\\ufeff or issue new shares,\\ufeff\\ufeff but these are not day-to-day operations and often occur outside of the framework of an exchange).', 'So when you buy a share of stock on the stock market, you are not buying it from the company, you are buying it from some other existing shareholder.', 'Likewise, when you sell your shares, you do not sell them back to the company—rather you sell them to some other investor.', 'The first stock markets appeared in Europe in the 16th and 17th centuries, mainly in port cities or trading hubs such as Antwerp, Amsterdam, and London.\\ufeff\\ufeff These early stock exchanges, however, were more akin to bond exchanges as the small number of companies did not issue equity.', 'In fact, most early corporations were considered semi-public organizations since they had to be chartered by their government in order to conduct business.', 'In the late 18th century, stock markets began appearing in America, notably the New York Stock Exchange (NYSE), which allowed for equity shares to trade.', 'The honor of the first stock exchange in America goes to the Philadelphia Stock Exchange (PHLX), which still exists today.\\ufeff\\ufeff The NYSE was founded in 1792 with the signing of the Buttonwood Agreement by 24 New York City stockbrokers and merchants.', 'Prior to this official incorporation, traders and brokers would meet unofficially under a buttonwood tree on Wall Street to buy and sell shares.\\ufeff\\ufeff\\n\\nThe advent of modern stock markets ushered in an age of regulation and professionalization that now ensures buyers and sellers of shares can trust that their transactions will go through at fair prices and within a reasonable period of time.', 'Today, there are many stock exchanges in the U.S. and throughout the world, many of which are linked together electronically.', 'This in turn means markets are more efficient and more liquid.', 'There also exists a number of loosely regulated over-the-counter exchanges, sometimes known as bulletin boards, that go by the acronym OTCBB.', 'OTCBB shares tend to be more risky since they list companies that fail to meet the more strict listing criteria of bigger exchanges.\\ufeff\\ufeff For example, larger exchanges may require that a company has been in operation for a certain amount of time before being listed, and that it meets certain conditions regarding company value and profitability.\\ufeff\\ufeff In most developed countries, stock exchanges are self-regulatory organizations (SROs), non-governmental organizations that have the power to create and enforce industry regulations and standards.\\ufeff\\ufeff The priority for stock exchanges is to protect investors through the establishment of rules that promote ethics and equality.', 'Examples of such SRO’s in the U.S. include individual stock exchanges, as well as the National Association of Securities Dealers (NASD) and the Financial Industry Regulatory Authority (FINRA).', 'How Share Prices Are Set\\n\\nThe prices of shares on a stock market can be set in a number of ways, but most the most common way is through an auction process where buyers and sellers place bids and offers to buy or sell.', 'A bid is the price at which somebody wishes to buy, and an offer (or ask) is the price at which somebody wishes to sell.', 'When the bid and ask coincide, a trade is made.', 'The overall market is made up of millions of investors and traders, who may have differing ideas about the value of a specific stock and thus the price at which they are willing to buy or sell it.', 'The thousands of transactions that occur as these investors and traders convert their intentions to actions by buying and/or selling a stock cause minute-by-minute gyrations in it over the course of a trading day.', 'A stock exchange provides a platform where such trading can be easily conducted by matching buyers and sellers of stocks.', 'For the average person to get access to these exchanges, they would need a stockbroker.', 'This stockbroker acts as the middleman between the buyer and the seller.', 'Getting a stockbroker is most commonly accomplished by creating an account with a well established retail broker.', 'Stock Market Supply and Demand\\n\\nThe stock market also offers a fascinating example of the laws of supply and demand at work in real time.', 'For every stock transaction, there must be a buyer and a seller.', 'Because of the immutable laws of supply and demand, if there are more buyers for a specific stock than there are sellers of it, the stock price will trend up.', 'Conversely, if there are more sellers of the stock than buyers, the price will trend down.', 'The bid-ask or bid-offer spread—the difference between the bid price for a stock and its ask or offer price—represents the difference between the highest price that a buyer is willing to pay or bid for a stock and the lowest price at which a seller is offering the stock.', 'A trade transaction occurs either when a buyer accepts the ask price or a seller takes the bid price.', 'If buyers outnumber sellers, they may be willing to raise their bids in order to acquire the stock; sellers will, therefore, ask higher prices for it, ratcheting the price up.', 'If sellers outnumber buyers, they may be willing to accept lower offers for the stock, while buyers will also lower their bids, effectively forcing the price down.', 'Matching Buyers to Sellers\\n\\nSome stock markets rely on professional traders to maintain continuous bids and offers since a motivated buyer or seller may not find each other at any given moment.', 'These are known as specialists or market makers.', 'A two-sided market consists of the bid and the offer, and the spread is the difference in price between the bid and the offer.', 'The more narrow the price spread and the larger size of the bids and offers (the amount of shares on each side), the greater the liquidity of the stock.', 'Moreover, if there are many buyers and sellers at sequentially higher and lower prices, the market is said to have good depth.', 'Stock markets of high quality generally tend to have small bid-ask spreads, high liquidity, and good depth.', 'Likewise, individual stocks of high quality, large companies tend to have the same characteristics.', 'Matching buyers and sellers of stocks on an exchange was initially done manually, but it is now increasingly carried out through computerized trading systems.', 'The manual method of trading was based on a system known as \"open outcry,\" in which traders used verbal and hand signal communications to buy and sell large blocks of stocks in the \"trading pit\" or the floor of an exchange.', 'However, the open outcry system has been superseded by electronic trading systems at most exchanges.\\ufeff\\ufeff These systems can match buyers and sellers far more efficiently and rapidly than humans can, resulting in significant benefits such as lower trading costs and faster trade execution.', \"Benefits of Stock Exchange Listing\\n\\nUntil recently, the ultimate goal for an entrepreneur was to get his or her company listed on a reputed stock exchange such as the New York Stock Exchange (NYSE) or Nasdaq, because of the obvious benefits, which include:\\n\\nAn exchange listing means ready liquidity for shares held by the company's shareholders.\", 'It enables the company to raise additional funds by issuing more shares.', 'Having publicly traded shares makes it easier to set up stock options plans that are necessary to attract talented employees.', 'Listed companies have greater visibility in the marketplace; analyst coverage and demand from institutional investors can drive up the share price.', 'Listed shares can be used as currency by the company to make acquisitions in which part or all of the consideration is paid in stock.', \"These benefits mean that most large companies are public rather than private; very large private companies such as food and agriculture giant Cargill, industrial conglomerate Koch Industries, and DIY furniture retailer Ikea are among the world's most valuable private companies, and they are the exception rather than the norm.\", 'Problems of Stock Exchange Listing\\n\\nBut there are some drawbacks to being listed on a stock exchange, such as:\\n\\nSignificant costs associated with listing on an exchange, such as listing fees and higher costs associated with compliance and reporting.', \"Burdensome regulations, which may constrict a company's ability to do business.\", 'The short-term focus of most investors, which forces companies to try and beat their quarterly earnings estimates rather than taking a long-term approach to their corporate strategy.', 'Many giant startups (also known as \"unicorns\" because startups valued at greater than $1 billion used to be exceedingly rare) are choosing to get listed on an exchange at a much later stage than startups from a decade or two ago.\\ufeff\\ufeff While this delayed listing may partly be attributable to the drawbacks listed above, the main reason could be that well-managed startups with a compelling business proposition have access to unprecedented amounts of capital from sovereign wealth funds, private equity, and venture capitalists.', 'Such access to seemingly unlimited amounts of capital would make an IPO and exchange listing much less of a pressing issue for a startup.', 'The number of publicly traded companies in the U.S. is also shrinking—from more than 8,000 in 1996 to around to between 4,100 and 4,400 in 2017.\\ufeff\\ufeff\\n\\nInvesting in Stocks\\n\\nNumerous studies have shown that, over long periods of time, stocks generate investment returns that are superior to those from every other asset class.', 'Stock returns arise from capital gains and dividends.', 'A capital gain occurs when you sell a stock at a higher price than the price at which you purchased it.', 'A dividend is the share of profit that a company distributes to its shareholders.', 'Dividends are an important component of stock returns—since 1956, dividends have contributed nearly one-third of total equity return, while capital gains have contributed two-thirds.\\ufeff\\ufeff\\n\\nWhile the allure of buying a stock similar to one of the fabled FAANG quintet—Facebook, Apple Inc. (AAPL), Amazon.com Inc. (AMZN), Netflix Inc. (NFLX), and Google parent Alphabet Inc. (GOOGL)—at a very early stage is one of the more tantalizing prospects of stock investing, in reality, such home runs are few and far between.', 'Investors who want to swing for the fences with the stocks in their portfolios should have a higher tolerance for risk; such investors will be keen to generate most of their returns from capital gains rather than dividends.', 'On the other hand, investors who are conservative and need the income from their portfolios may opt for stocks that have a long history of paying substantial dividends.', 'Market Cap and Sector\\n\\nWhile stocks can be classified in a number of ways, two of the most common are by market capitalization and by sector.', \"Market capitalization refers to the total market value of a company's outstanding shares and is calculated by multiplying these shares by the current market price of one share.\", 'While the exact definition may vary depending on the market, large-cap companies are generally regarded as those with a market capitalization of $10 billion or more, while mid-cap companies are those with a market capitalization of between $2 billion and $10 billion, and small-cap companies fall between $300 million and $2 billion.', 'The industry standard for stock classification by sector is the Global Industry Classification Standard (GICS), which was developed by MSCI and S&P Dow Jones Indices in 1999 as an efficient tool to capture the breadth, depth, and evolution of industry sectors.\\ufeff\\ufeff GICS is a four-tiered industry classification system that consists of 11 sectors and 24 industry groups.', 'The 11 sectors are:\\n\\nEnergy\\n\\nMaterials\\n\\nIndustrials\\n\\nConsumer Discretionary\\n\\nConsumer Staples\\n\\nHealth Care\\n\\nFinancials\\n\\nInformation Technology\\n\\nCommunication Services\\n\\nUtilities\\n\\nReal Estate \\ufeff \\ufeff\\n\\nThis sector classification makes it easy for investors to tailor their portfolios according to their risk tolerance and investment preference.', 'For example, conservative investors with income needs may weight their portfolios toward sectors whose constituent stocks have better price stability and offer attractive dividends – so-called \"defensive\" sectors such as consumer staples, health care, and utilities.', 'Aggressive investors may prefer more volatile sectors such as information technology, financials, and energy.', 'Stock Market Indices\\n\\nIn addition to individual stocks, many investors are concerned with stock indices (also called indexes).', 'Indices represent aggregated prices of a number of different stocks, and the movement of an index is the net effect of the movements of each individual component.', 'When people talk about the stock market, they often are actually referring to one of the major indices such as the Dow Jones Industrial Average (DJIA) or the S&P 500.', 'The DJIA is a price-weighted index of 30 large American corporations.', 'Because of its weighting scheme and that it only consists of 30 stocks—when there are many thousand to choose from—it is not really a good indicator of how the stock market is doing.', 'The S&P 500 is a market cap-weighted index of the 500 largest companies in the U.S., and is a much more valid indicator.\\ufeff\\ufeff Indices can be broad such as the Dow Jones or S&P 500, or they can be specific to a certain industry or market sector.', 'Investors can trade indices indirectly via futures markets, or via exchange traded funds (ETFs), which trade like stocks on stock exchanges.', 'A market index is a popular measure of stock market performance.', 'Most market indices are market-cap weighted—which means that the weight of each index constituent is proportional to its market capitalization—although a few like the Dow Jones Industrial Average (DJIA) are price-weighted.\\ufeff\\ufeff In addition to the DJIA, other widely watched indices in the U.S. and internationally include:\\n\\nLargest Stock Exchanges\\n\\nStock exchanges have been around for more than two centuries.', 'The venerable NYSE traces its roots back to 1792 when two dozen brokers met in Lower Manhattan and signed an agreement to trade securities on commission;\\ufeff\\ufeff in 1817, New York stockbrokers operating under the agreement made some key changes and reorganized as the New York Stock and Exchange Board.\\ufeff\\ufeff\\n\\n1:43 How The Stock Market Works\\n\\nThe NYSE and Nasdaq are the two largest exchanges in the world, based on the total market capitalization of all the companies listed on the exchange.', 'The number of U.S. stock exchanges registered with the Securities and Exchange Commission has reached nearly two dozen, though most of these are owned by either CBOE, Nasdaq or NYSE.\\ufeff\\ufeff The table below displays the 20 biggest exchanges globally, ranked by total market capitalization of their listed companies.']\n"
          ],
          "name": "stdout"
        }
      ]
    },
    {
      "cell_type": "code",
      "metadata": {
        "id": "PVPvWPCR6FcV"
      },
      "source": [
        "#A function to return a random greeting response\n",
        "def greeting_response(text):\n",
        "   text = text.lower()\n",
        "   #Bots greeting response\n",
        "   bot_greetings = ['hello','hi','hey','hi there']\n",
        "   #User greetings\n",
        "   user_greetings = ['hi','heya','hello','hola']\n",
        "\n",
        "   for word in text.split():\n",
        "     if word in user_greetings:\n",
        "       return random.choice(bot_greetings)"
      ],
      "execution_count": 17,
      "outputs": []
    },
    {
      "cell_type": "code",
      "metadata": {
        "id": "3FonwdpN7mLJ"
      },
      "source": [
        "def index_sort(list_var):\n",
        "  length = len(list_var)\n",
        "  list_index = list(range(0, length))\n",
        "\n",
        "  x = list_var\n",
        "  for i in range(length):\n",
        "    for j in range(length):\n",
        "      if x[list_index[i]] > x[list_index[j]]:\n",
        "        temp = list_index[i]\n",
        "        list_index[i] = list_index[j]\n",
        "        list_index[j] = temp\n",
        "\n",
        "  return list_index"
      ],
      "execution_count": 18,
      "outputs": []
    },
    {
      "cell_type": "code",
      "metadata": {
        "id": "iii99NNJ61c8"
      },
      "source": [
        "#Create the bots response\n",
        "def bot_response(user_input):\n",
        "  user_input = user_input.lower()\n",
        "  sentence_list.append(user_input)\n",
        "  bot_response = ''\n",
        "  cm = CountVectorizer().fit_transform(sentence_list)\n",
        "  similarity_scores = cosine_similarity(cm[-1], cm)\n",
        "  similarity_scores_list = similarity_scores.flatten()\n",
        "  index = index_sort(similarity_scores_list)\n",
        "  index = index[1:]\n",
        "  response_flag = 0\n",
        "\n",
        "  j = 0\n",
        "  for i in range(len(index)):\n",
        "    if similarity_scores_list[index[i]] >0.0:\n",
        "      bot_response = bot_response+' '+sentence_list[index[i]]\n",
        "      response_flag = 1\n",
        "      j=j+1\n",
        "    if j > 2:\n",
        "      break\n",
        "  if response_flag==0:\n",
        "    bot_response = bot_response+' '+\"I apologize, I dont understand.\"\n",
        "\n",
        "  sentence_list.remove(user_input)\n",
        "  return bot_response"
      ],
      "execution_count": 19,
      "outputs": []
    },
    {
      "cell_type": "code",
      "metadata": {
        "id": "8A-Qu0vS-Vol",
        "outputId": "117bb577-d844-4f52-dbbf-924755ffd8c2",
        "colab": {
          "base_uri": "https://localhost:8080/"
        }
      },
      "source": [
        "#Test the bot\n",
        "print(\"Bot: Hi! I am your ChatBot.\")\n",
        "\n",
        "exit_list=['exit', 'see you later', 'bye', 'quit']\n",
        "while(True):\n",
        "  user_input = input()\n",
        "  if user_input.lower() in exit_list:\n",
        "    print(\"Bot: Bye Bye!\")\n",
        "    break\n",
        "  else:\n",
        "    if greeting_response(user_input) != None:\n",
        "      print(\"Bot: \"+greeting_response(user_input))\n",
        "    else:\n",
        "      print('Bot: '+bot_response(user_input))"
      ],
      "execution_count": 20,
      "outputs": [
        {
          "output_type": "stream",
          "text": [
            "Bot: Hi! I am your ChatBot.\n",
            "Hello\n",
            "Bot: hey\n",
            "What is Stock\n",
            "Bot:  What is a Stock Exchange? A market index is a popular measure of stock market performance. Definition of 'Stock'\n",
            "\n",
            "A stock or share (also known as a company's \"equity\") is a financial instrument that represents ownership in a company or corporation and represents a proportionate claim on its assets (what it owns) and earnings (what it generates in profits).﻿﻿\n",
            "\n",
            "Stock ownership implies that the shareholder owns a slice of the company equal to the number of shares held as a proportion of the company's total outstanding shares.\n",
            "Bye\n",
            "Bot: Bye Bye!\n"
          ],
          "name": "stdout"
        }
      ]
    }
  ]
}